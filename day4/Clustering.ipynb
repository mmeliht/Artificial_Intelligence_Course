{
 "cells": [
  {
   "cell_type": "markdown",
   "id": "636ad239-bf8e-4c39-8125-33c0d007b51d",
   "metadata": {},
   "source": [
    "# Clustering"
   ]
  },
  {
   "cell_type": "markdown",
   "id": "96b89321-1158-4466-977a-3499b88055b2",
   "metadata": {},
   "source": [
    "### Kümeleme : datayı benzerliklerine göre gruplara ayırma . Bu bir denetimsiz öğrenim"
   ]
  },
  {
   "cell_type": "code",
   "execution_count": null,
   "id": "dd605df8-b873-47e3-9042-c4231ec1a25c",
   "metadata": {},
   "outputs": [],
   "source": []
  }
 ],
 "metadata": {
  "kernelspec": {
   "display_name": "Python [conda env:base] *",
   "language": "python",
   "name": "conda-base-py"
  },
  "language_info": {
   "codemirror_mode": {
    "name": "ipython",
    "version": 3
   },
   "file_extension": ".py",
   "mimetype": "text/x-python",
   "name": "python",
   "nbconvert_exporter": "python",
   "pygments_lexer": "ipython3",
   "version": "3.13.5"
  }
 },
 "nbformat": 4,
 "nbformat_minor": 5
}
