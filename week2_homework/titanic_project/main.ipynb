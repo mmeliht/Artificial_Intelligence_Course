{
 "cells": [
  {
   "cell_type": "markdown",
   "id": "43810005-8c7c-44e8-96d1-2a381c9ca8de",
   "metadata": {},
   "source": [
    "# WEEK 2 Homework - Titanic Dataset"
   ]
  },
  {
   "cell_type": "code",
   "execution_count": null,
   "id": "cbcc3ad8-04fc-4f9c-aa80-d93cfc16464f",
   "metadata": {},
   "outputs": [],
   "source": []
  }
 ],
 "metadata": {
  "kernelspec": {
   "display_name": "Python [conda env:base] *",
   "language": "python",
   "name": "conda-base-py"
  },
  "language_info": {
   "codemirror_mode": {
    "name": "ipython",
    "version": 3
   },
   "file_extension": ".py",
   "mimetype": "text/x-python",
   "name": "python",
   "nbconvert_exporter": "python",
   "pygments_lexer": "ipython3",
   "version": "3.13.5"
  }
 },
 "nbformat": 4,
 "nbformat_minor": 5
}
