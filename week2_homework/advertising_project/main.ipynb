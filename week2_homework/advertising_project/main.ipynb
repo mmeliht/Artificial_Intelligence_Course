{
 "cells": [
  {
   "cell_type": "code",
   "execution_count": null,
   "id": "4022115e-937d-455a-8f19-5a7e5e0e523d",
   "metadata": {},
   "outputs": [],
   "source": []
  }
 ],
 "metadata": {
  "kernelspec": {
   "display_name": "",
   "name": ""
  },
  "language_info": {
   "name": ""
  }
 },
 "nbformat": 4,
 "nbformat_minor": 5
}
