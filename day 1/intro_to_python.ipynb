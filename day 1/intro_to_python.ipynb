{
 "cells": [
  {
   "cell_type": "markdown",
   "id": "b10700f8-c070-4f50-a0b5-f5ccb7df678f",
   "metadata": {},
   "source": [
    "# Intro to python"
   ]
  },
  {
   "cell_type": "markdown",
   "id": "f9901fbe-99a5-44ff-b2f2-b2a15ca3f127",
   "metadata": {},
   "source": [
    "Bu gün python programlama öğreniyorum."
   ]
  },
  {
   "cell_type": "markdown",
   "id": "1be6e4a6-cfb4-442a-835e-197a08c436f3",
   "metadata": {},
   "source": [
    "$ \\int_1^\\infty \\frac {1}{x^2} dx $"
   ]
  },
  {
   "cell_type": "markdown",
   "id": "b3ec7bd3-c4c1-4f51-944c-0e795b91eff2",
   "metadata": {},
   "source": [
    "$ \\int_1^\\infty \\frac {1}{x^2}\\ teta \\ alpha dx $"
   ]
  },
  {
   "cell_type": "code",
   "execution_count": 1,
   "id": "b2f83f25-cd0c-40e1-8958-aac73b50dcd5",
   "metadata": {},
   "outputs": [
    {
     "name": "stdout",
     "output_type": "stream",
     "text": [
      "Hello World\n"
     ]
    }
   ],
   "source": [
    "print(\"Hello World\")"
   ]
  },
  {
   "cell_type": "code",
   "execution_count": 2,
   "id": "ef1634be-d412-4c99-8630-0c2ce2f4cd8a",
   "metadata": {},
   "outputs": [
    {
     "name": "stdout",
     "output_type": "stream",
     "text": [
      "Merhaba Dünya\n"
     ]
    }
   ],
   "source": [
    "print(\"Merhaba Dünya\")"
   ]
  },
  {
   "cell_type": "code",
   "execution_count": 3,
   "id": "3030e474-e017-4b29-bd13-8e162b8ac1ab",
   "metadata": {},
   "outputs": [
    {
     "name": "stdout",
     "output_type": "stream",
     "text": [
      " O'conner \n"
     ]
    }
   ],
   "source": [
    "print(\" O'conner \")"
   ]
  },
  {
   "cell_type": "code",
   "execution_count": 4,
   "id": "87d96d2b-1d3d-4ff7-ba82-9d9d212b2e23",
   "metadata": {},
   "outputs": [],
   "source": [
    "# Değişken Tanımlama"
   ]
  },
  {
   "cell_type": "code",
   "execution_count": 5,
   "id": "d68f91d5-e839-4a7e-9ee9-6e12e69a3489",
   "metadata": {},
   "outputs": [],
   "source": [
    "a=3"
   ]
  },
  {
   "cell_type": "code",
   "execution_count": 6,
   "id": "d26bf846-1266-483a-8bb3-57c16bdac3a2",
   "metadata": {},
   "outputs": [],
   "source": [
    "yil = 2011"
   ]
  },
  {
   "cell_type": "code",
   "execution_count": 7,
   "id": "13761769-9b80-438c-b7d1-4d4cc1feb1de",
   "metadata": {},
   "outputs": [
    {
     "data": {
      "text/plain": [
       "2011"
      ]
     },
     "execution_count": 7,
     "metadata": {},
     "output_type": "execute_result"
    }
   ],
   "source": [
    "yil"
   ]
  },
  {
   "cell_type": "code",
   "execution_count": 8,
   "id": "5737eb8e-bc79-4c3c-b320-f9f763851885",
   "metadata": {},
   "outputs": [
    {
     "data": {
      "text/plain": [
       "'Merhaba Dünya'"
      ]
     },
     "execution_count": 8,
     "metadata": {},
     "output_type": "execute_result"
    }
   ],
   "source": [
    "'Merhaba Dünya' "
   ]
  },
  {
   "cell_type": "code",
   "execution_count": 9,
   "id": "e93c19cc-63e9-4312-9e5c-3041b1fc89a2",
   "metadata": {},
   "outputs": [
    {
     "data": {
      "text/plain": [
       "'Merhaba Dünya Merhaba Dünya Merhaba Dünya Merhaba Dünya Merhaba Dünya Merhaba Dünya Merhaba Dünya Merhaba Dünya Merhaba Dünya Merhaba Dünya '"
      ]
     },
     "execution_count": 9,
     "metadata": {},
     "output_type": "execute_result"
    }
   ],
   "source": [
    "10 * 'Merhaba Dünya '"
   ]
  },
  {
   "cell_type": "code",
   "execution_count": 10,
   "id": "f453ea71-b0b5-4ba7-aa75-0a811297690b",
   "metadata": {},
   "outputs": [],
   "source": [
    "# Veri tipleri : integer float string liste tuple dictionary boolean"
   ]
  },
  {
   "cell_type": "code",
   "execution_count": 11,
   "id": "9e7a70df-bc7f-4480-8418-c20f457f1bd7",
   "metadata": {},
   "outputs": [],
   "source": [
    "a = 5 \n",
    "f = 2.5 \n",
    "str= \"Yapay zeka\""
   ]
  },
  {
   "cell_type": "code",
   "execution_count": 12,
   "id": "f286aeda-fc9a-4fa4-918b-99e4037699ac",
   "metadata": {},
   "outputs": [
    {
     "data": {
      "text/plain": [
       "'Yapay zeka'"
      ]
     },
     "execution_count": 12,
     "metadata": {},
     "output_type": "execute_result"
    }
   ],
   "source": [
    "str\n"
   ]
  },
  {
   "cell_type": "code",
   "execution_count": 13,
   "id": "00d4ef86-650f-496e-a6b1-7cb5530fcb64",
   "metadata": {},
   "outputs": [],
   "source": [
    "liste = [ 1, 3, 5 , 'yazı' ]"
   ]
  },
  {
   "cell_type": "code",
   "execution_count": 14,
   "id": "c3b539f9-92aa-4a0f-93e2-46dfb7f197d8",
   "metadata": {},
   "outputs": [
    {
     "data": {
      "text/plain": [
       "[1, 3, 5, 'yazı']"
      ]
     },
     "execution_count": 14,
     "metadata": {},
     "output_type": "execute_result"
    }
   ],
   "source": [
    "liste\n"
   ]
  },
  {
   "cell_type": "code",
   "execution_count": 15,
   "id": "d755dc38-4250-4033-8752-76bed2253379",
   "metadata": {},
   "outputs": [],
   "source": [
    "dictionary = {'name':' melih', 'age': '26' } "
   ]
  },
  {
   "cell_type": "code",
   "execution_count": 16,
   "id": "06a7f550-1ab8-40bb-a144-17869a4a245c",
   "metadata": {},
   "outputs": [
    {
     "data": {
      "text/plain": [
       "' melih'"
      ]
     },
     "execution_count": 16,
     "metadata": {},
     "output_type": "execute_result"
    }
   ],
   "source": [
    "dictionary['name']"
   ]
  },
  {
   "cell_type": "code",
   "execution_count": null,
   "id": "1e8045c3-36c6-4f83-a483-46f4c52af1f0",
   "metadata": {},
   "outputs": [],
   "source": []
  },
  {
   "cell_type": "code",
   "execution_count": 17,
   "id": "38b9467d-d85b-46a7-943b-9d5208166aee",
   "metadata": {},
   "outputs": [
    {
     "data": {
      "text/plain": [
       "dict_keys(['name', 'age'])"
      ]
     },
     "execution_count": 17,
     "metadata": {},
     "output_type": "execute_result"
    }
   ],
   "source": [
    "dictionary.keys()"
   ]
  },
  {
   "cell_type": "code",
   "execution_count": 18,
   "id": "1cadf287-3223-42cb-b213-d462311f2949",
   "metadata": {},
   "outputs": [
    {
     "name": "stdin",
     "output_type": "stream",
     "text": [
      "Yaşınızı giriniz :  33\n"
     ]
    },
    {
     "name": "stdout",
     "output_type": "stream",
     "text": [
      "daha gençsin !!\n"
     ]
    }
   ],
   "source": [
    "yas = int(input(\"Yaşınızı giriniz : \"))\n",
    "if yas < 35 :\n",
    "    print(\"daha gençsin !!\")\n",
    "elif yas == 35 :\n",
    "    print(\"yolun yarısındasın\")\n",
    "else :\n",
    "    print(\"yaşlanıyorsun\")\n"
   ]
  },
  {
   "cell_type": "code",
   "execution_count": 19,
   "id": "1c01a156-7265-4c0e-8633-2b028e12df31",
   "metadata": {},
   "outputs": [],
   "source": [
    "# Operatörler + - / * % "
   ]
  },
  {
   "cell_type": "code",
   "execution_count": 20,
   "id": "dedb5e48-9301-4b96-af1e-ab53e079e43c",
   "metadata": {},
   "outputs": [
    {
     "data": {
      "text/plain": [
       "1"
      ]
     },
     "execution_count": 20,
     "metadata": {},
     "output_type": "execute_result"
    }
   ],
   "source": [
    "9 % 2"
   ]
  },
  {
   "cell_type": "code",
   "execution_count": 21,
   "id": "5c3f8b1c-302a-4240-9628-c5ea2cdb867d",
   "metadata": {},
   "outputs": [
    {
     "data": {
      "text/plain": [
       "8"
      ]
     },
     "execution_count": 21,
     "metadata": {},
     "output_type": "execute_result"
    }
   ],
   "source": [
    "2**3"
   ]
  },
  {
   "cell_type": "code",
   "execution_count": 22,
   "id": "e905f2ab-add7-4d9d-9514-c358d0242705",
   "metadata": {},
   "outputs": [],
   "source": [
    "fiyat = [50 , 45, 67 , 100 , 10 ] "
   ]
  },
  {
   "cell_type": "code",
   "execution_count": 23,
   "id": "073755f1-52a3-4d66-9b7b-4573465c67af",
   "metadata": {},
   "outputs": [
    {
     "name": "stdout",
     "output_type": "stream",
     "text": [
      "80.0\n",
      "72.0\n",
      "107.2\n",
      "160.0\n",
      "16.0\n"
     ]
    }
   ],
   "source": [
    "for i in fiyat :\n",
    "    print(i *1.6 )"
   ]
  },
  {
   "cell_type": "code",
   "execution_count": 24,
   "id": "5f4e08b8-50fb-44c9-89b2-a57357168b5b",
   "metadata": {},
   "outputs": [],
   "source": [
    "# list comprehension "
   ]
  },
  {
   "cell_type": "code",
   "execution_count": 25,
   "id": "9a2b2c90-7e3d-4fca-b5f9-9301b59d00ca",
   "metadata": {},
   "outputs": [
    {
     "data": {
      "text/plain": [
       "[80.0, 72.0, 107.2, 160.0, 16.0]"
      ]
     },
     "execution_count": 25,
     "metadata": {},
     "output_type": "execute_result"
    }
   ],
   "source": [
    "[x*1.60 for x in fiyat] "
   ]
  },
  {
   "cell_type": "code",
   "execution_count": 26,
   "id": "306f0055-73d1-40ef-bf5a-ed14f351ec07",
   "metadata": {},
   "outputs": [],
   "source": [
    "import pandas as pd"
   ]
  },
  {
   "cell_type": "code",
   "execution_count": 27,
   "id": "ecd75551-d102-4fcc-a9ac-1e20fe13f6ef",
   "metadata": {},
   "outputs": [
    {
     "name": "stdout",
     "output_type": "stream",
     "text": [
      " Volume in drive C has no label.\n",
      " Volume Serial Number is EA81-4F3B\n",
      "\n",
      " Directory of C:\\Users\\USER\\Desktop\\Yapay Zeka\\day 1\n",
      "\n",
      "15.07.2025  18:23    <DIR>          .\n",
      "15.07.2025  16:31    <DIR>          ..\n",
      "15.07.2025  18:23    <DIR>          .ipynb_checkpoints\n",
      "15.07.2025  18:22           739.139 intro_to_python.ipynb\n",
      "               1 File(s)        739.139 bytes\n",
      "               3 Dir(s)  176.349.904.896 bytes free\n"
     ]
    }
   ],
   "source": [
    "ls"
   ]
  },
  {
   "cell_type": "code",
   "execution_count": 28,
   "id": "763fffe9-60ea-4619-8f68-96cb9318f2a4",
   "metadata": {},
   "outputs": [
    {
     "name": "stdout",
     "output_type": "stream",
     "text": [
      " Volume in drive C has no label.\n",
      " Volume Serial Number is EA81-4F3B\n",
      "\n",
      " Directory of C:\\Users\\USER\\Desktop\\Yapay Zeka\\day 1\n",
      "\n",
      "15.07.2025  18:23    <DIR>          .\n",
      "15.07.2025  16:31    <DIR>          ..\n",
      "15.07.2025  18:23    <DIR>          .ipynb_checkpoints\n",
      "15.07.2025  18:22           739.139 intro_to_python.ipynb\n",
      "               1 File(s)        739.139 bytes\n",
      "               3 Dir(s)  176.349.904.896 bytes free\n"
     ]
    }
   ],
   "source": [
    "ls\n"
   ]
  },
  {
   "cell_type": "code",
   "execution_count": 29,
   "id": "ef61b3f6-6783-4d59-8e42-303212008d1b",
   "metadata": {},
   "outputs": [
    {
     "data": {
      "text/plain": [
       "'C:\\\\Users\\\\USER\\\\Desktop\\\\Yapay Zeka\\\\day 1'"
      ]
     },
     "execution_count": 29,
     "metadata": {},
     "output_type": "execute_result"
    }
   ],
   "source": [
    "pwd"
   ]
  },
  {
   "cell_type": "code",
   "execution_count": 30,
   "id": "f4fdf5f1-d170-4026-86eb-912980012249",
   "metadata": {},
   "outputs": [
    {
     "ename": "FileNotFoundError",
     "evalue": "[Errno 2] No such file or directory: 'train.csv'",
     "output_type": "error",
     "traceback": [
      "\u001b[1;31m---------------------------------------------------------------------------\u001b[0m",
      "\u001b[1;31mFileNotFoundError\u001b[0m                         Traceback (most recent call last)",
      "Cell \u001b[1;32mIn[30], line 1\u001b[0m\n\u001b[1;32m----> 1\u001b[0m df \u001b[38;5;241m=\u001b[39m pd\u001b[38;5;241m.\u001b[39mread_csv(\u001b[38;5;124m'\u001b[39m\u001b[38;5;124mtrain.csv\u001b[39m\u001b[38;5;124m'\u001b[39m)\n",
      "File \u001b[1;32m~\\anaconda3\\Lib\\site-packages\\pandas\\io\\parsers\\readers.py:1026\u001b[0m, in \u001b[0;36mread_csv\u001b[1;34m(filepath_or_buffer, sep, delimiter, header, names, index_col, usecols, dtype, engine, converters, true_values, false_values, skipinitialspace, skiprows, skipfooter, nrows, na_values, keep_default_na, na_filter, verbose, skip_blank_lines, parse_dates, infer_datetime_format, keep_date_col, date_parser, date_format, dayfirst, cache_dates, iterator, chunksize, compression, thousands, decimal, lineterminator, quotechar, quoting, doublequote, escapechar, comment, encoding, encoding_errors, dialect, on_bad_lines, delim_whitespace, low_memory, memory_map, float_precision, storage_options, dtype_backend)\u001b[0m\n\u001b[0;32m   1013\u001b[0m kwds_defaults \u001b[38;5;241m=\u001b[39m _refine_defaults_read(\n\u001b[0;32m   1014\u001b[0m     dialect,\n\u001b[0;32m   1015\u001b[0m     delimiter,\n\u001b[1;32m   (...)\u001b[0m\n\u001b[0;32m   1022\u001b[0m     dtype_backend\u001b[38;5;241m=\u001b[39mdtype_backend,\n\u001b[0;32m   1023\u001b[0m )\n\u001b[0;32m   1024\u001b[0m kwds\u001b[38;5;241m.\u001b[39mupdate(kwds_defaults)\n\u001b[1;32m-> 1026\u001b[0m \u001b[38;5;28;01mreturn\u001b[39;00m _read(filepath_or_buffer, kwds)\n",
      "File \u001b[1;32m~\\anaconda3\\Lib\\site-packages\\pandas\\io\\parsers\\readers.py:620\u001b[0m, in \u001b[0;36m_read\u001b[1;34m(filepath_or_buffer, kwds)\u001b[0m\n\u001b[0;32m    617\u001b[0m _validate_names(kwds\u001b[38;5;241m.\u001b[39mget(\u001b[38;5;124m\"\u001b[39m\u001b[38;5;124mnames\u001b[39m\u001b[38;5;124m\"\u001b[39m, \u001b[38;5;28;01mNone\u001b[39;00m))\n\u001b[0;32m    619\u001b[0m \u001b[38;5;66;03m# Create the parser.\u001b[39;00m\n\u001b[1;32m--> 620\u001b[0m parser \u001b[38;5;241m=\u001b[39m TextFileReader(filepath_or_buffer, \u001b[38;5;241m*\u001b[39m\u001b[38;5;241m*\u001b[39mkwds)\n\u001b[0;32m    622\u001b[0m \u001b[38;5;28;01mif\u001b[39;00m chunksize \u001b[38;5;129;01mor\u001b[39;00m iterator:\n\u001b[0;32m    623\u001b[0m     \u001b[38;5;28;01mreturn\u001b[39;00m parser\n",
      "File \u001b[1;32m~\\anaconda3\\Lib\\site-packages\\pandas\\io\\parsers\\readers.py:1620\u001b[0m, in \u001b[0;36mTextFileReader.__init__\u001b[1;34m(self, f, engine, **kwds)\u001b[0m\n\u001b[0;32m   1617\u001b[0m     \u001b[38;5;28mself\u001b[39m\u001b[38;5;241m.\u001b[39moptions[\u001b[38;5;124m\"\u001b[39m\u001b[38;5;124mhas_index_names\u001b[39m\u001b[38;5;124m\"\u001b[39m] \u001b[38;5;241m=\u001b[39m kwds[\u001b[38;5;124m\"\u001b[39m\u001b[38;5;124mhas_index_names\u001b[39m\u001b[38;5;124m\"\u001b[39m]\n\u001b[0;32m   1619\u001b[0m \u001b[38;5;28mself\u001b[39m\u001b[38;5;241m.\u001b[39mhandles: IOHandles \u001b[38;5;241m|\u001b[39m \u001b[38;5;28;01mNone\u001b[39;00m \u001b[38;5;241m=\u001b[39m \u001b[38;5;28;01mNone\u001b[39;00m\n\u001b[1;32m-> 1620\u001b[0m \u001b[38;5;28mself\u001b[39m\u001b[38;5;241m.\u001b[39m_engine \u001b[38;5;241m=\u001b[39m \u001b[38;5;28mself\u001b[39m\u001b[38;5;241m.\u001b[39m_make_engine(f, \u001b[38;5;28mself\u001b[39m\u001b[38;5;241m.\u001b[39mengine)\n",
      "File \u001b[1;32m~\\anaconda3\\Lib\\site-packages\\pandas\\io\\parsers\\readers.py:1880\u001b[0m, in \u001b[0;36mTextFileReader._make_engine\u001b[1;34m(self, f, engine)\u001b[0m\n\u001b[0;32m   1878\u001b[0m     \u001b[38;5;28;01mif\u001b[39;00m \u001b[38;5;124m\"\u001b[39m\u001b[38;5;124mb\u001b[39m\u001b[38;5;124m\"\u001b[39m \u001b[38;5;129;01mnot\u001b[39;00m \u001b[38;5;129;01min\u001b[39;00m mode:\n\u001b[0;32m   1879\u001b[0m         mode \u001b[38;5;241m+\u001b[39m\u001b[38;5;241m=\u001b[39m \u001b[38;5;124m\"\u001b[39m\u001b[38;5;124mb\u001b[39m\u001b[38;5;124m\"\u001b[39m\n\u001b[1;32m-> 1880\u001b[0m \u001b[38;5;28mself\u001b[39m\u001b[38;5;241m.\u001b[39mhandles \u001b[38;5;241m=\u001b[39m get_handle(\n\u001b[0;32m   1881\u001b[0m     f,\n\u001b[0;32m   1882\u001b[0m     mode,\n\u001b[0;32m   1883\u001b[0m     encoding\u001b[38;5;241m=\u001b[39m\u001b[38;5;28mself\u001b[39m\u001b[38;5;241m.\u001b[39moptions\u001b[38;5;241m.\u001b[39mget(\u001b[38;5;124m\"\u001b[39m\u001b[38;5;124mencoding\u001b[39m\u001b[38;5;124m\"\u001b[39m, \u001b[38;5;28;01mNone\u001b[39;00m),\n\u001b[0;32m   1884\u001b[0m     compression\u001b[38;5;241m=\u001b[39m\u001b[38;5;28mself\u001b[39m\u001b[38;5;241m.\u001b[39moptions\u001b[38;5;241m.\u001b[39mget(\u001b[38;5;124m\"\u001b[39m\u001b[38;5;124mcompression\u001b[39m\u001b[38;5;124m\"\u001b[39m, \u001b[38;5;28;01mNone\u001b[39;00m),\n\u001b[0;32m   1885\u001b[0m     memory_map\u001b[38;5;241m=\u001b[39m\u001b[38;5;28mself\u001b[39m\u001b[38;5;241m.\u001b[39moptions\u001b[38;5;241m.\u001b[39mget(\u001b[38;5;124m\"\u001b[39m\u001b[38;5;124mmemory_map\u001b[39m\u001b[38;5;124m\"\u001b[39m, \u001b[38;5;28;01mFalse\u001b[39;00m),\n\u001b[0;32m   1886\u001b[0m     is_text\u001b[38;5;241m=\u001b[39mis_text,\n\u001b[0;32m   1887\u001b[0m     errors\u001b[38;5;241m=\u001b[39m\u001b[38;5;28mself\u001b[39m\u001b[38;5;241m.\u001b[39moptions\u001b[38;5;241m.\u001b[39mget(\u001b[38;5;124m\"\u001b[39m\u001b[38;5;124mencoding_errors\u001b[39m\u001b[38;5;124m\"\u001b[39m, \u001b[38;5;124m\"\u001b[39m\u001b[38;5;124mstrict\u001b[39m\u001b[38;5;124m\"\u001b[39m),\n\u001b[0;32m   1888\u001b[0m     storage_options\u001b[38;5;241m=\u001b[39m\u001b[38;5;28mself\u001b[39m\u001b[38;5;241m.\u001b[39moptions\u001b[38;5;241m.\u001b[39mget(\u001b[38;5;124m\"\u001b[39m\u001b[38;5;124mstorage_options\u001b[39m\u001b[38;5;124m\"\u001b[39m, \u001b[38;5;28;01mNone\u001b[39;00m),\n\u001b[0;32m   1889\u001b[0m )\n\u001b[0;32m   1890\u001b[0m \u001b[38;5;28;01massert\u001b[39;00m \u001b[38;5;28mself\u001b[39m\u001b[38;5;241m.\u001b[39mhandles \u001b[38;5;129;01mis\u001b[39;00m \u001b[38;5;129;01mnot\u001b[39;00m \u001b[38;5;28;01mNone\u001b[39;00m\n\u001b[0;32m   1891\u001b[0m f \u001b[38;5;241m=\u001b[39m \u001b[38;5;28mself\u001b[39m\u001b[38;5;241m.\u001b[39mhandles\u001b[38;5;241m.\u001b[39mhandle\n",
      "File \u001b[1;32m~\\anaconda3\\Lib\\site-packages\\pandas\\io\\common.py:873\u001b[0m, in \u001b[0;36mget_handle\u001b[1;34m(path_or_buf, mode, encoding, compression, memory_map, is_text, errors, storage_options)\u001b[0m\n\u001b[0;32m    868\u001b[0m \u001b[38;5;28;01melif\u001b[39;00m \u001b[38;5;28misinstance\u001b[39m(handle, \u001b[38;5;28mstr\u001b[39m):\n\u001b[0;32m    869\u001b[0m     \u001b[38;5;66;03m# Check whether the filename is to be opened in binary mode.\u001b[39;00m\n\u001b[0;32m    870\u001b[0m     \u001b[38;5;66;03m# Binary mode does not support 'encoding' and 'newline'.\u001b[39;00m\n\u001b[0;32m    871\u001b[0m     \u001b[38;5;28;01mif\u001b[39;00m ioargs\u001b[38;5;241m.\u001b[39mencoding \u001b[38;5;129;01mand\u001b[39;00m \u001b[38;5;124m\"\u001b[39m\u001b[38;5;124mb\u001b[39m\u001b[38;5;124m\"\u001b[39m \u001b[38;5;129;01mnot\u001b[39;00m \u001b[38;5;129;01min\u001b[39;00m ioargs\u001b[38;5;241m.\u001b[39mmode:\n\u001b[0;32m    872\u001b[0m         \u001b[38;5;66;03m# Encoding\u001b[39;00m\n\u001b[1;32m--> 873\u001b[0m         handle \u001b[38;5;241m=\u001b[39m \u001b[38;5;28mopen\u001b[39m(\n\u001b[0;32m    874\u001b[0m             handle,\n\u001b[0;32m    875\u001b[0m             ioargs\u001b[38;5;241m.\u001b[39mmode,\n\u001b[0;32m    876\u001b[0m             encoding\u001b[38;5;241m=\u001b[39mioargs\u001b[38;5;241m.\u001b[39mencoding,\n\u001b[0;32m    877\u001b[0m             errors\u001b[38;5;241m=\u001b[39merrors,\n\u001b[0;32m    878\u001b[0m             newline\u001b[38;5;241m=\u001b[39m\u001b[38;5;124m\"\u001b[39m\u001b[38;5;124m\"\u001b[39m,\n\u001b[0;32m    879\u001b[0m         )\n\u001b[0;32m    880\u001b[0m     \u001b[38;5;28;01melse\u001b[39;00m:\n\u001b[0;32m    881\u001b[0m         \u001b[38;5;66;03m# Binary mode\u001b[39;00m\n\u001b[0;32m    882\u001b[0m         handle \u001b[38;5;241m=\u001b[39m \u001b[38;5;28mopen\u001b[39m(handle, ioargs\u001b[38;5;241m.\u001b[39mmode)\n",
      "\u001b[1;31mFileNotFoundError\u001b[0m: [Errno 2] No such file or directory: 'train.csv'"
     ]
    }
   ],
   "source": [
    "df = pd.read_csv('train.csv')"
   ]
  },
  {
   "cell_type": "code",
   "execution_count": null,
   "id": "a226471f-6391-4e2d-af4c-b8f06aa394e5",
   "metadata": {},
   "outputs": [],
   "source": [
    "df.head()"
   ]
  },
  {
   "cell_type": "code",
   "execution_count": null,
   "id": "2f30c0f2-798a-479e-8035-29110eb05cac",
   "metadata": {},
   "outputs": [],
   "source": [
    "# EDA "
   ]
  },
  {
   "cell_type": "code",
   "execution_count": null,
   "id": "b78e3c04-a0d8-4dd9-a608-7d4de83c1f9a",
   "metadata": {},
   "outputs": [],
   "source": [
    "df.head() # ilk beş satır "
   ]
  },
  {
   "cell_type": "code",
   "execution_count": null,
   "id": "16067df0-135c-4119-82f2-4cda8bc6759c",
   "metadata": {},
   "outputs": [],
   "source": [
    "df.tail() #  son 5 satır"
   ]
  },
  {
   "cell_type": "code",
   "execution_count": null,
   "id": "fcbc2e5e-b6aa-4238-8120-4ed0858b8439",
   "metadata": {},
   "outputs": [],
   "source": [
    "df.shape"
   ]
  },
  {
   "cell_type": "code",
   "execution_count": null,
   "id": "8b2cd4ad-8d8b-48be-ae38-7e6619325391",
   "metadata": {},
   "outputs": [],
   "source": [
    "df.info()"
   ]
  },
  {
   "cell_type": "code",
   "execution_count": null,
   "id": "ba7eddd9-e393-4c4a-a253-1ad66dcbe66a",
   "metadata": {},
   "outputs": [],
   "source": [
    "df.corr(numeric_only=True) # Korelasyon"
   ]
  },
  {
   "cell_type": "code",
   "execution_count": null,
   "id": "2549f04d-6104-48b8-b08d-172999338cdd",
   "metadata": {},
   "outputs": [],
   "source": [
    "import seaborn as sns"
   ]
  },
  {
   "cell_type": "code",
   "execution_count": null,
   "id": "ccb8b9f5-db7f-4582-bbeb-253b9f5dee01",
   "metadata": {},
   "outputs": [],
   "source": [
    "sns.pairplot(df,hue='Survived' )"
   ]
  },
  {
   "cell_type": "code",
   "execution_count": null,
   "id": "1641c4d4-7368-4ca2-ad37-e89cad68f4e7",
   "metadata": {},
   "outputs": [],
   "source": [
    "df2= pd.read_html(\"https://en.wikipedia.org/wiki/List_of_countries_by_GDP_(nominal)\") [2]"
   ]
  },
  {
   "cell_type": "code",
   "execution_count": null,
   "id": "21ce987e-6771-4c6e-9958-1230dde52866",
   "metadata": {},
   "outputs": [],
   "source": [
    "df2.head()"
   ]
  },
  {
   "cell_type": "code",
   "execution_count": null,
   "id": "cd005633-3e76-4fe2-a76a-f329968cf681",
   "metadata": {},
   "outputs": [],
   "source": [
    "# pip install gtts"
   ]
  },
  {
   "cell_type": "code",
   "execution_count": null,
   "id": "7e4383ec-6bd5-451b-ad5b-1b4068e0c63b",
   "metadata": {},
   "outputs": [],
   "source": [
    "from gtts import gTTS "
   ]
  },
  {
   "cell_type": "code",
   "execution_count": null,
   "id": "6977edae-a14c-4f6e-8e4c-f419f401600e",
   "metadata": {},
   "outputs": [],
   "source": [
    "text = \"merhaba , yapay zeka dersimize hoş geldiniz .Derslerimiz eğlenceli , öyle değil mi  \"\n",
    "kayit = gTTS( text = text, lang = 'tr' , slow = False)\n",
    "kayit.save(\"robot.mp3\")"
   ]
  },
  {
   "cell_type": "code",
   "execution_count": null,
   "id": "997beff7-de4f-4fcd-b227-37099f77e8df",
   "metadata": {},
   "outputs": [],
   "source": [
    "# End of Lesson 1"
   ]
  },
  {
   "cell_type": "code",
   "execution_count": null,
   "id": "2f957856-8d7e-4789-925b-04d443a9e33d",
   "metadata": {},
   "outputs": [],
   "source": [
    "pip install xlrd"
   ]
  },
  {
   "cell_type": "code",
   "execution_count": null,
   "id": "e3937007-85cd-4b57-873c-2989a29cccb8",
   "metadata": {},
   "outputs": [],
   "source": [
    "df = "
   ]
  },
  {
   "cell_type": "code",
   "execution_count": null,
   "id": "f29369f9-4324-4efa-b8ff-be9da2913544",
   "metadata": {},
   "outputs": [],
   "source": []
  }
 ],
 "metadata": {
  "kernelspec": {
   "display_name": "Python [conda env:base] *",
   "language": "python",
   "name": "conda-base-py"
  },
  "language_info": {
   "codemirror_mode": {
    "name": "ipython",
    "version": 3
   },
   "file_extension": ".py",
   "mimetype": "text/x-python",
   "name": "python",
   "nbconvert_exporter": "python",
   "pygments_lexer": "ipython3",
   "version": "3.13.5"
  }
 },
 "nbformat": 4,
 "nbformat_minor": 5
}
