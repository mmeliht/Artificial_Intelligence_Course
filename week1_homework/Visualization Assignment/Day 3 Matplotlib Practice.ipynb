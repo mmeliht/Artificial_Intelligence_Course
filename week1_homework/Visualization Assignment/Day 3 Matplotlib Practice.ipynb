{
 "cells": [
  {
   "cell_type": "code",
   "execution_count": 1,
   "metadata": {},
   "outputs": [],
   "source": [
    "# Homework Start"
   ]
  },
  {
   "cell_type": "markdown",
   "metadata": {},
   "source": [
    "# Matplotlib Practice"
   ]
  },
  {
   "cell_type": "code",
   "execution_count": 2,
   "metadata": {},
   "outputs": [],
   "source": [
    "## Bar Chart\n",
    "# Use the following data to make your plot:\n",
    "\n",
    "from numpy import arange, array\n",
    "x = arange(1, 13)\n",
    "y = array([7, 8, 5, 5, 3, 4, 4, 6, 9, 7, 8, 8])"
   ]
  },
  {
   "cell_type": "markdown",
   "metadata": {},
   "source": [
    "1. Add a bar chart to your plot, using `x` and `y` above. Fix it so there is no outline (edgecolor), set the color of the bars to green, and set their width to 0.25.\n",
    "2. Fix your X-axis to go from 1 to 13.\n",
    "3. Fix your Y-axis to go from 0 to 10.\n",
    "4. Add a label to your X-axis that says \"month of the year\".\n",
    "5. Add a label to your Y-axis that says \"letters in month name\".\n",
    "6. Add a title to your plot, \"Leters in the Name of Each Month\".\n",
    "7. Display your plot."
   ]
  },
  {
   "cell_type": "code",
   "execution_count": 3,
   "metadata": {},
   "outputs": [],
   "source": [
    "import pandas as pd\n",
    "import matplotlib.pyplot as plt\n",
    "import seaborn as sns"
   ]
  },
  {
   "cell_type": "code",
   "execution_count": 4,
   "metadata": {},
   "outputs": [
    {
     "data": {
      "text/plain": [
       "<BarContainer object of 12 artists>"
      ]
     },
     "execution_count": 4,
     "metadata": {},
     "output_type": "execute_result"
    },
    {
     "data": {
      "image/png": "[encoded data removed]",
      "text/plain": [
       "<Figure size 640x480 with 1 Axes>"
      ]
     },
     "metadata": {},
     "output_type": "display_data"
    }
   ],
   "source": [
    "# Solution\n",
    "# 1 \n",
    "plt.bar(x,y, color = 'green' , edgecolor = None , width = 0.25)"
   ]
  },
  {
   "cell_type": "code",
   "execution_count": 5,
   "metadata": {},
   "outputs": [],
   "source": [
    "# 2, 3, 4, 5, 6, 7,"
   ]
  },
  {
   "cell_type": "code",
   "execution_count": 8,
   "metadata": {},
   "outputs": [
    {
     "data": {
      "image/png": "[encoded data removed]",
      "text/plain": [
       "<Figure size 640x480 with 1 Axes>"
      ]
     },
     "metadata": {},
     "output_type": "display_data"
    }
   ],
   "source": [
    "plt.bar(x,y, color = 'green' , edgecolor = None , width = 0.25)\n",
    "plt.xlim(1,13)                                                     # x eksenini 1 ile 13 arasında sınırlar\n",
    "plt.xticks(range(1, 14))                                           # x ekseninde tüm sayıları gösterir.\n",
    "plt.ylim(1,10)                                                     # y eksenini 1 ile 13 arasında sınırlar \n",
    "plt.xlabel(\"month of the year\") \n",
    "plt.ylabel(\"letters in month name\")\n",
    "plt.title(\"Leters in the Name of Each Month\")\n",
    "plt.show()"
   ]
  },
  {
   "cell_type": "code",
   "execution_count": null,
   "metadata": {},
   "outputs": [],
   "source": []
  },
  {
   "cell_type": "code",
   "execution_count": null,
   "metadata": {},
   "outputs": [],
   "source": [
    "## Scatter and Line Plots\n",
    "# Use the following data:\n",
    "\n",
    "from numpy import arange, cos, pi\n",
    "x = arange(0.0, 2 * pi, pi / 16.0)\n",
    "y = 2 * cos(x)"
   ]
  },
  {
   "cell_type": "markdown",
   "metadata": {},
   "source": [
    "1. Add a line plot, using `x` and `y` above. Set the width of the line to 3, set the color to green, set the style to dashed, with a label of \"approx\".\n",
    "2. Add a scatter plot, using `x` and `y` above. Set the size to 1000, set the edgecolor to none, set the color to blue, and set the label to \"discrete\".\n",
    "3. Add an X label of \"x\".\n",
    "4. Add a Y label of \"Y\".\n",
    "5. Add a title of \"2 * cos(x)\".\n",
    "6. Save your plot to a file named \"cos.png\"."
   ]
  },
  {
   "cell_type": "code",
   "execution_count": null,
   "metadata": {},
   "outputs": [],
   "source": [
    "# Solution\n"
   ]
  },
  {
   "cell_type": "code",
   "execution_count": null,
   "metadata": {},
   "outputs": [],
   "source": [
    "## Multiplot, Histogram, and Errorbar\n",
    "# Use the following data:\n",
    "\n",
    "from numpy import random\n",
    "mu = 10500\n",
    "sigma = 250\n",
    "values = mu + sigma * random.randn(10000)\n",
    "x = mu + sigma * random.randn(100)\n",
    "y = mu + sigma * random.randn(100)"
   ]
  },
  {
   "cell_type": "markdown",
   "metadata": {},
   "source": [
    "1. Use `subplot` to initialize the first plot (left column) in a two-column subplot image.\n",
    "2. Create a histogram of `values` with 25 columns, set the facecolor to green, and set the edgecolor to none.\n",
    "3. Give the plot a Y-label of \"count\" of values\".\n",
    "4. Use `subplot` to intiialize the second plot (right column) in a two-column subplot image.\n",
    "5. Create a scatter plot of `x` and `y`, set the area to 300, set alpha to 0.25, set edgecolor to none, set color equal to `random.rand(100)`.\n",
    "6. Give the plot a X-label of \"x\".\n",
    "7. Give the plot a Y-label of \"y\".\n",
    "8. Set the x-limits of the plot to: 10,000 to 11,000.\n",
    "9. Set the y-limits of the plot to: 10,000 to 11,000.\n",
    "10. Add a grid to the plot.\n",
    "11. Show the plot."
   ]
  },
  {
   "cell_type": "code",
   "execution_count": null,
   "metadata": {},
   "outputs": [],
   "source": [
    "# Solution\n"
   ]
  }
 ],
 "metadata": {
  "anaconda-cloud": {},
  "kernelspec": {
   "display_name": "Python [conda env:base] *",
   "language": "python",
   "name": "conda-base-py"
  },
  "language_info": {
   "codemirror_mode": {
    "name": "ipython",
    "version": 3
   },
   "file_extension": ".py",
   "mimetype": "text/x-python",
   "name": "python",
   "nbconvert_exporter": "python",
   "pygments_lexer": "ipython3",
   "version": "3.13.5"
  }
 },
 "nbformat": 4,
 "nbformat_minor": 4
}
