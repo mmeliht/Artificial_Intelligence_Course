{
 "cells": [
  {
   "cell_type": "code",
   "execution_count": 2,
   "id": "700a17a0-ddd6-4913-a81d-5d51abf41309",
   "metadata": {},
   "outputs": [],
   "source": [
    "#pip install bing-image-downloader"
   ]
  },
  {
   "cell_type": "code",
   "execution_count": 4,
   "id": "b2efee65-c408-4747-af13-d74cc74de4d3",
   "metadata": {},
   "outputs": [],
   "source": [
    "from bing_image_downloader import downloader"
   ]
  },
  {
   "cell_type": "code",
   "execution_count": 6,
   "id": "a7a7b5df-bcc4-4a1c-9f46-f29c6ef9877f",
   "metadata": {},
   "outputs": [
    {
     "name": "stdout",
     "output_type": "stream",
     "text": [
      "[%] Downloading Images to C:\\Users\\USER\\Desktop\\Artificial_Intelligence_Course\\day5\\dataset\\horses\n",
      "\n",
      "\n",
      "[!!]Indexing page: 1\n",
      "\n",
      "[%] Indexed 23 Images on Page 1.\n",
      "\n",
      "===============================================\n",
      "\n",
      "[%] Downloading Image #1 from https://countyfairsusa.net/wp-content/uploads/2012/05/horsephoto.jpg\n",
      "[!] Issue getting: https://countyfairsusa.net/wp-content/uploads/2012/05/horsephoto.jpg\n",
      "[!] Error:: HTTP Error 403: Forbidden\n",
      "[%] Downloading Image #1 from https://researchco.ca/wp-content/uploads/2020/09/horses_.jpg\n",
      "[%] File Downloaded !\n",
      "\n",
      "[%] Downloading Image #2 from http://www.hedweb.com/animimag/horses.jpg\n",
      "[%] File Downloaded !\n",
      "\n",
      "[%] Downloading Image #3 from http://here4horses.org.uk/wp-content/uploads/2020/06/Here4Horses_Footer_Group_02.jpg\n",
      "[%] File Downloaded !\n",
      "\n",
      "[%] Downloading Image #4 from https://equineworld.co.uk/images/horse-colours-markings.jpg\n",
      "[%] File Downloaded !\n",
      "\n",
      "[%] Downloading Image #5 from https://equineworld.co.uk/images/places-to-buy-horse.jpg\n",
      "[%] File Downloaded !\n",
      "\n",
      "[%] Downloading Image #6 from https://equineworld.co.uk/images/horses-history.jpg\n",
      "[%] File Downloaded !\n",
      "\n",
      "[%] Downloading Image #7 from http://4.bp.blogspot.com/_kzNVnblObDM/S2S_fWHyaxI/AAAAAAAADmw/TKIPLrEO5Mc/s1600/DSCF6160.JPG\n",
      "[%] File Downloaded !\n",
      "\n",
      "[%] Downloading Image #8 from https://images.pexels.com/photos/20720753/pexels-photo-20720753.jpeg?cs=srgb&amp;dl=pexels-ziamoshtaghi-20720753.jpg&amp;fm=jpg\n",
      "[%] File Downloaded !\n",
      "\n",
      "[%] Downloading Image #9 from https://eskipaper.com/images/horse-art-1.jpg\n",
      "[%] File Downloaded !\n",
      "\n",
      "[%] Downloading Image #10 from https://i0.wp.com/drawingonmyheart.com/wp-content/uploads/2021/02/horsescape_high-res-iphone-photo_warmer-and-lighter.jpg?strip=info&amp;w=1800&amp;ssl=1\n",
      "[%] File Downloaded !\n",
      "\n",
      "\n",
      "\n",
      "[%] Done. Downloaded 10 images.\n"
     ]
    }
   ],
   "source": [
    "downloader.download('horses' , limit = 10 , adult_filter_off = True)"
   ]
  },
  {
   "cell_type": "code",
   "execution_count": 7,
   "id": "19cd305e-49db-4eea-b0b3-ba62875e07ed",
   "metadata": {},
   "outputs": [],
   "source": [
    "import tensorflow as tf"
   ]
  },
  {
   "cell_type": "code",
   "execution_count": 8,
   "id": "28bf896a-dbd9-4269-ac6b-2bb99b8c64dd",
   "metadata": {},
   "outputs": [],
   "source": [
    "mnist = tf.keras.datasets.mnist"
   ]
  },
  {
   "cell_type": "code",
   "execution_count": 9,
   "id": "32b07fd9-77ac-4732-9a0d-b33054ae3c63",
   "metadata": {},
   "outputs": [
    {
     "name": "stdout",
     "output_type": "stream",
     "text": [
      "Downloading data from https://storage.googleapis.com/tensorflow/tf-keras-datasets/mnist.npz\n",
      "\u001b[1m11490434/11490434\u001b[0m \u001b[32m━━━━━━━━━━━━━━━━━━━━\u001b[0m\u001b[37m\u001b[0m \u001b[1m1s\u001b[0m 0us/step\n"
     ]
    }
   ],
   "source": [
    "(train_images , train_labels) , (test_images , test_labels) = mnist.load_data()"
   ]
  },
  {
   "cell_type": "code",
   "execution_count": 10,
   "id": "724a4e1d-7fe5-483a-89e0-2b7c3ac3c3d3",
   "metadata": {},
   "outputs": [
    {
     "data": {
      "text/plain": [
       "(60000, 28, 28)"
      ]
     },
     "execution_count": 10,
     "metadata": {},
     "output_type": "execute_result"
    }
   ],
   "source": [
    "train_images.shape"
   ]
  },
  {
   "cell_type": "code",
   "execution_count": 11,
   "id": "62421bc5-9af5-43d0-afd0-e128c67f34e9",
   "metadata": {},
   "outputs": [],
   "source": [
    "import matplotlib.pyplot as plt"
   ]
  },
  {
   "cell_type": "code",
   "execution_count": 14,
   "id": "f127e7d4-fda4-4aa6-9790-1fb2e42406b8",
   "metadata": {},
   "outputs": [
    {
     "data": {
      "image/png": "[encoded data removed]",
      "text/plain": [
       "<Figure size 640x480 with 1 Axes>"
      ]
     },
     "metadata": {},
     "output_type": "display_data"
    }
   ],
   "source": [
    "plt.imshow(train_images[5999], cmap='gray')\n",
    "plt.axis('off')  # Eksenleri kapatmak için isteğe bağlı\n",
    "plt.show()"
   ]
  },
  {
   "cell_type": "code",
   "execution_count": null,
   "id": "554b43ec-8d82-4930-99ad-479cb1d52e7e",
   "metadata": {},
   "outputs": [],
   "source": []
  }
 ],
 "metadata": {
  "kernelspec": {
   "display_name": "Python 3 (ipykernel)",
   "language": "python",
   "name": "python3"
  },
  "language_info": {
   "codemirror_mode": {
    "name": "ipython",
    "version": 3
   },
   "file_extension": ".py",
   "mimetype": "text/x-python",
   "name": "python",
   "nbconvert_exporter": "python",
   "pygments_lexer": "ipython3",
   "version": "3.9.23"
  }
 },
 "nbformat": 4,
 "nbformat_minor": 5
}
