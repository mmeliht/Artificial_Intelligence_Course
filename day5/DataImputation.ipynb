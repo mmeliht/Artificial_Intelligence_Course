{
 "cells": [
  {
   "cell_type": "markdown",
   "id": "d2619258-ca83-43f3-8de5-5ab36621867f",
   "metadata": {},
   "source": [
    "# Data Imputation - Bos Verileri Doldurma"
   ]
  },
  {
   "cell_type": "markdown",
   "id": "afa9f6dc-b298-4396-8fc3-1114e60f4be7",
   "metadata": {},
   "source": [
    "<img src = imputation.png>"
   ]
  },
  {
   "cell_type": "code",
   "execution_count": 1,
   "id": "e6dab937-f3c7-4fbc-8e45-ec7025f97d3b",
   "metadata": {},
   "outputs": [],
   "source": [
    "import pandas as pd"
   ]
  },
  {
   "cell_type": "code",
   "execution_count": 2,
   "id": "6d1a27f3-f6f7-4532-a8f3-14ed25eec917",
   "metadata": {},
   "outputs": [],
   "source": [
    "df=pd.read_csv('ExampleData.csv')"
   ]
  },
  {
   "cell_type": "code",
   "execution_count": null,
   "id": "604dc371-a662-40e0-8ceb-9c87d2ee75ef",
   "metadata": {},
   "outputs": [],
   "source": []
  }
 ],
 "metadata": {
  "kernelspec": {
   "display_name": "Python 3 (ipykernel)",
   "language": "python",
   "name": "python3"
  },
  "language_info": {
   "codemirror_mode": {
    "name": "ipython",
    "version": 3
   },
   "file_extension": ".py",
   "mimetype": "text/x-python",
   "name": "python",
   "nbconvert_exporter": "python",
   "pygments_lexer": "ipython3",
   "version": "3.9.23"
  }
 },
 "nbformat": 4,
 "nbformat_minor": 5
}
