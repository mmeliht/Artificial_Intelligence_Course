{
 "cells": [
  {
   "cell_type": "code",
   "execution_count": 2,
   "id": "76127cee-83a5-4bca-89eb-c2d6fd4e9fdb",
   "metadata": {},
   "outputs": [],
   "source": [
    "# Begin Lesson 3"
   ]
  },
  {
   "cell_type": "code",
   "execution_count": 3,
   "id": "c7ae8c62-1c66-4360-8efa-faaf3de321c4",
   "metadata": {},
   "outputs": [],
   "source": [
    "# Sıcaklık tahmini yapmak için regresyon kullanılır.\n",
    "# Evet hayır cevapları için classification kullanılır."
   ]
  },
  {
   "cell_type": "code",
   "execution_count": null,
   "id": "d54a7c5c-040e-4e32-aec7-809eaba63517",
   "metadata": {},
   "outputs": [],
   "source": []
  }
 ],
 "metadata": {
  "kernelspec": {
   "display_name": "Python [conda env:base] *",
   "language": "python",
   "name": "conda-base-py"
  },
  "language_info": {
   "codemirror_mode": {
    "name": "ipython",
    "version": 3
   },
   "file_extension": ".py",
   "mimetype": "text/x-python",
   "name": "python",
   "nbconvert_exporter": "python",
   "pygments_lexer": "ipython3",
   "version": "3.13.5"
  }
 },
 "nbformat": 4,
 "nbformat_minor": 5
}
