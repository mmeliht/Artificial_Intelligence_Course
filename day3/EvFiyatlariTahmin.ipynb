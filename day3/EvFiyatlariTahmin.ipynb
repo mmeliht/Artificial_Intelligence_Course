{
 "cells": [
  {
   "cell_type": "markdown",
   "id": "3866c347-963d-4b64-96c6-0f59b3eb5621",
   "metadata": {},
   "source": [
    "<img src=https://solsmart.org/wp-content/uploads/imported-files/assessors_social-600x360-c-default.jpg>"
   ]
  },
  {
   "cell_type": "code",
   "execution_count": null,
   "id": "e5cc8eab-7ca1-4f0a-8dee-ac3c43a6e9a0",
   "metadata": {},
   "outputs": [],
   "source": []
  },
  {
   "cell_type": "markdown",
   "id": "784c5e7a-9b4e-4702-9d10-906066bc5ca2",
   "metadata": {},
   "source": [
    "<a href=https://www.kaggle.com/code/bilginkd/house-prices-polynomial-regression-model>Datayaya bu linkten ulasabilirsiniz</a>"
   ]
  },
  {
   "cell_type": "markdown",
   "id": "e983c6a6-10e0-45b9-922e-5b23f13adac3",
   "metadata": {},
   "source": [
    "Data Content\n",
    "Attribute Information:\n",
    "\n",
    "id → A unique identifier for each house.\n",
    "date → The date the house was sold.\n",
    "price → The sale price of the house.\n",
    "bedrooms → The number of bedrooms in the house.\n",
    "bathrooms → The number of bathrooms.\n",
    "sqft_living → The living area of the house in square feet.\n",
    "sqft_lot → The total lot size in square feet.\n",
    "floors → The total number of floors in the house.\n",
    "waterfront → Indicates if the house is located on the waterfront.\n",
    "view → A rating for the quality of the house's view.\n",
    "condition → The overall condition of the house.\n",
    "grade → A score that represents the quality of construction and interior design.\n",
    "sqft_above → The size of the above-ground living area in square feet.\n",
    "sqft_basement → The size of the basement in square feet.\n",
    "yr_built → The year the house was built.\n",
    "yr_renovated → The most recent year the house was renovated.\n",
    "zipcode → The postal code of the house’s location.\n",
    "lat → The latitude (geographical coordinate) of the house.\n",
    "long → The longitude (geographical coordinate) of the house.\n",
    "sqft_living15 → The average living space size of nearby houses.\n",
    "sqft_lot15 → The average lot size of nearby houses."
   ]
  },
  {
   "cell_type": "code",
   "execution_count": null,
   "id": "74b46a13-f077-4554-942a-690fb8818c2f",
   "metadata": {},
   "outputs": [],
   "source": []
  }
 ],
 "metadata": {
  "kernelspec": {
   "display_name": "Python [conda env:base] *",
   "language": "python",
   "name": "conda-base-py"
  },
  "language_info": {
   "codemirror_mode": {
    "name": "ipython",
    "version": 3
   },
   "file_extension": ".py",
   "mimetype": "text/x-python",
   "name": "python",
   "nbconvert_exporter": "python",
   "pygments_lexer": "ipython3",
   "version": "3.13.5"
  }
 },
 "nbformat": 4,
 "nbformat_minor": 5
}
