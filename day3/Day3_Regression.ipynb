{
 "cells": [
  {
   "cell_type": "code",
   "execution_count": 2,
   "id": "76127cee-83a5-4bca-89eb-c2d6fd4e9fdb",
   "metadata": {},
   "outputs": [],
   "source": [
    "# Begin Lesson 3"
   ]
  },
  {
   "cell_type": "code",
   "execution_count": 5,
   "id": "c7ae8c62-1c66-4360-8efa-faaf3de321c4",
   "metadata": {},
   "outputs": [],
   "source": [
    "# Sıcaklık tahmini yapmak için regresyon kullanılır.\n",
    "# Evet hayır cevapları için classification kullanılır.\n",
    "# Zamana bağlı veriye time series denir."
   ]
  },
  {
   "cell_type": "markdown",
   "id": "92203cce-55a3-4ab0-ad1d-0061b73b43d7",
   "metadata": {},
   "source": [
    "Model Nasıl Oluşturulur"
   ]
  },
  {
   "cell_type": "markdown",
   "id": "cae3940c-9d33-46a2-be8f-893c33ff16a9",
   "metadata": {},
   "source": [
    "1. Data Set Oluşturulur.\n",
    "2. Data Temizlenir\n",
    "3. Datalar dönüştürülür.\n",
    "4. Model eğitilir.\n",
    "5. Model optimize edilene kadar eğitilir.\n",
    "6. Test model oluşturulur.\n",
    "7. Optimize edilmiş modelle yeni datalar tahmin edilir.\n",
    "8. Model yayınlanır.\n",
    "9. Geri dönüşlere göre model güncellenir."
   ]
  },
  {
   "cell_type": "code",
   "execution_count": 6,
   "id": "ab7fe308-3085-4a0a-a60c-fe6af67c4e57",
   "metadata": {},
   "outputs": [],
   "source": [
    "# Code Begin "
   ]
  },
  {
   "cell_type": "markdown",
   "id": "b673ce0f-2ee1-4af0-aeb0-da46b5d7d99b",
   "metadata": {},
   "source": [
    "# Regression - Geçmiş verilerden geleceği tahmin etme "
   ]
  },
  {
   "cell_type": "markdown",
   "id": "5a38dff3-f150-4564-a852-7e83f6dbe060",
   "metadata": {},
   "source": [
    "Bu derste regression algoritmalarını derinlemesine öğreneceğiz. Araba fiyatlarını tahmin eden bir makine öğrenmesi modeli geliştireceğiz.\n",
    "Başarı oranını yüzde 85 in üstünde tutmaya çalışacğız."
   ]
  },
  {
   "cell_type": "code",
   "execution_count": 9,
   "id": "a6507a84-f494-403c-83e6-29e294845fdc",
   "metadata": {},
   "outputs": [],
   "source": [
    "#pip install xlrd"
   ]
  },
  {
   "cell_type": "code",
   "execution_count": 11,
   "id": "572ebd56-504f-4ac9-a9e4-891601c72b64",
   "metadata": {},
   "outputs": [],
   "source": [
    "import pandas as pd # veri dosyasını okuma ve manipüle etme paketi\n",
    "import sqlite3"
   ]
  },
  {
   "cell_type": "code",
   "execution_count": 12,
   "id": "cddcdbdd-8475-4e81-8229-ebec3c9adbbc",
   "metadata": {},
   "outputs": [],
   "source": [
    "conn = sqlite3.connect('cars.db')"
   ]
  },
  {
   "cell_type": "code",
   "execution_count": 14,
   "id": "52ff5f1e-c65c-45ec-a21c-3e6fc58dcf75",
   "metadata": {},
   "outputs": [],
   "source": [
    "df = pd.read_sql_query('select * from cars',conn)"
   ]
  },
  {
   "cell_type": "code",
   "execution_count": null,
   "id": "88ebfd60-a4cc-4677-b0f8-3c73434a867b",
   "metadata": {},
   "outputs": [],
   "source": []
  }
 ],
 "metadata": {
  "kernelspec": {
   "display_name": "Python [conda env:base] *",
   "language": "python",
   "name": "conda-base-py"
  },
  "language_info": {
   "codemirror_mode": {
    "name": "ipython",
    "version": 3
   },
   "file_extension": ".py",
   "mimetype": "text/x-python",
   "name": "python",
   "nbconvert_exporter": "python",
   "pygments_lexer": "ipython3",
   "version": "3.13.5"
  }
 },
 "nbformat": 4,
 "nbformat_minor": 5
}
